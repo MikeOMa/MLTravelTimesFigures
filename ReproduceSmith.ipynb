{
 "cells": [
  {
   "cell_type": "code",
   "execution_count": 1,
   "metadata": {},
   "outputs": [],
   "source": [
    "%load_ext autoreload\n",
    "%autoreload 2\n",
    "import driftmlp\n",
    "\n",
    "import driftmlp.shortest_path as SP \n",
    "from driftmlp.drifter_indexing.discrete_system import h3_default\n",
    "import pickle\n",
    "\n",
    "import numpy as np\n",
    "### Visualization\n",
    "import matplotlib.pyplot as plt\n",
    "import cartopy.crs as ccrs\n",
    "import seaborn as sns\n",
    "import matplotlib.ticker as mticker\n",
    "\n",
    "from shapely.geometry import Point\n",
    "\n",
    "from cartopy.mpl.gridliner import LONGITUDE_FORMATTER, LATITUDE_FORMATTER\n",
    "loc1 = 149, -40\n",
    "loc2 = -74.8, -53\n",
    "if 'nets' not in locals():\n",
    "    nets = pickle.load(open('rotations_100_3_10.p', 'rb'))\n",
    "    \n",
    "def add_rare_gridlines(ax):\n",
    "    ##Gridlines to match the other papers grid lines \n",
    "    gl = ax.gridlines(crs=ccrs.PlateCarree(), draw_labels=True,\n",
    "                      linewidth=2, color='gray', alpha=0.5, linestyle='--')\n",
    "    gl.top_labels = False\n",
    "    gl.left_labels = True\n",
    "    gl.xlines = True\n",
    "    gl.xlocator = mticker.FixedLocator([140,  -175,-145, -105, -65])\n",
    "    gl.ylocator = mticker.FixedLocator([0,-20,-40,-60,-80])\n",
    "    gl.xformatter = LONGITUDE_FORMATTER\n",
    "    gl.yformatter = LATITUDE_FORMATTER\n",
    "    gl.xlabel_style = {'size': 15, 'color': 'gray'}\n",
    "    gl.xlabel_style = {'color': 'red', 'weight': 'bold'}\n",
    "\n",
    "def path_and_df(network, original_gpd):\n",
    "    indices = driftmlp.helpers.return_h3_inds(origins, rot=network['rotation'])\n",
    "    paths = [driftmlp.shortest_path.get_all_paths(network, src, indices) for src in  indices]\n",
    "    ##We didn't store all the gpd dataframes originally as its' costly memorywise\n",
    "    rot = network['rotation']\n",
    "    h3_df = driftmlp.plotting.make_h3_gpd.network_to_multipolygon_df(network)\n",
    "    return {'paths':paths, 'gpd':h3_df, 'rot':rot}\n",
    "\n",
    "\n",
    "def get_singleSP(net, loc1, loc2, res=3):\n",
    "    discretizer = h3_default(res=res, rot=net['rotation'])\n",
    "    return SP.SingleSP(net, loc1, loc2, discretizer=discretizer)"
   ]
  },
  {
   "cell_type": "markdown",
   "metadata": {},
   "source": [
    "# Rare long-distance dispersal of marine angiosperm across the pacific Ocean\n",
    "## Figure 2 of their paper reproduction with the most likely path methodology"
   ]
  },
  {
   "cell_type": "code",
   "execution_count": 2,
   "metadata": {},
   "outputs": [],
   "source": [
    "if 'nets_4' not in locals():\n",
    "    nets_4 = pickle.load(open('rotations_30_4_10.p', 'rb'))\n",
    "    nets_append = pickle.load(open('rotations_30_4_55.p', 'rb'))\n",
    "    nets_4 = nets_4+nets_append\n"
   ]
  },
  {
   "cell_type": "markdown",
   "metadata": {},
   "source": [
    "## Plot everything together for the Supplementary Info"
   ]
  },
  {
   "cell_type": "code",
   "execution_count": 3,
   "metadata": {},
   "outputs": [
    {
     "data": {
      "image/png": "[encoded data removed]",
      "text/plain": [
       "<Figure size 360x288 with 4 Axes>"
      ]
     },
     "metadata": {
      "needs_background": "light"
     },
     "output_type": "display_data"
    }
   ],
   "source": [
    "fig = plt.figure(figsize=(5,4))\n",
    "sps_res4 = [get_singleSP(net, loc1, loc2,res=4) for net in nets_4]\n",
    "tt_res4 = [path.sp.travel_time for path in sps_res4]\n",
    "tt_res4 = [x/365 for x in tt_res4 if x!=-1]\n",
    "\n",
    "sps_res3 = [get_singleSP(net, loc1, loc2,res=3) for net in nets]\n",
    "tt_res3 = [path.sp.travel_time for path in sps_res3]\n",
    "tt_res3 = [x/365 for x in tt_res3 if x!=-1]\n",
    "\n",
    "ax_res3 = fig.add_subplot(2,2,1, projection=ccrs.PlateCarree(central_longitude=180))\n",
    "ax_res4 = fig.add_subplot(2,2,2, projection=ccrs.PlateCarree(central_longitude=180))\n",
    "ax_res3.set_title(\"Resolution 3\\n Rotated paths\")\n",
    "ax_res4.set_title(\"Resolution 4\\n Rotated paths\")\n",
    "ax_res3_tt = fig.add_subplot(2,2,3)\n",
    "ax_res4_tt = fig.add_subplot(2,2,4)\n",
    "ax_res3_tt.set_title(\"Resolution 3 \\n Travel Times\")\n",
    "ax_res4_tt.set_title(\"Resolution 4 \\n Travel Times\")\n",
    "ax_res3_tt.set_ylabel(\"Count\")\n",
    "ax_res3_tt.set_xlabel(\"Travel Time (Years)\")\n",
    "ax_res4_tt.set_xlabel(\"Travel Time (Years)\")\n",
    "\n",
    "sns.histplot(np.array(tt_res4), ax=ax_res4_tt)\n",
    "sns.histplot(np.array(tt_res3[:60]), ax=ax_res3_tt)\n",
    "for k in sps_res4:\n",
    "    k.plot_cartopy(rev=False, ax=ax_res4, type_plot='line', alpha=0.1, crs=ccrs.Geodetic())\n",
    "for k in sps_res3[:60]:\n",
    "    k.plot_cartopy(rev=False, ax=ax_res3, type_plot='line', alpha=0.1, crs=ccrs.Geodetic())\n",
    "add_rare_gridlines(ax_res4)\n",
    "add_rare_gridlines(ax_res3)\n",
    "fig.tight_layout()\n",
    "fig.savefig(\"Images/Comparison_Pacific.png\", dpi=300)"
   ]
  },
  {
   "cell_type": "code",
   "execution_count": null,
   "metadata": {},
   "outputs": [],
   "source": []
  }
 ],
 "metadata": {
  "kernelspec": {
   "display_name": "driftmlp2",
   "language": "python",
   "name": "driftmlp2"
  },
  "language_info": {
   "codemirror_mode": {
    "name": "ipython",
    "version": 3
   },
   "file_extension": ".py",
   "mimetype": "text/x-python",
   "name": "python",
   "nbconvert_exporter": "python",
   "pygments_lexer": "ipython3",
   "version": "3.8.3"
  }
 },
 "nbformat": 4,
 "nbformat_minor": 4
}
